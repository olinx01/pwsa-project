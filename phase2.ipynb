{
 "cells": [
  {
   "cell_type": "code",
   "execution_count": 16,
   "metadata": {},
   "outputs": [
    {
     "name": "stdout",
     "output_type": "stream",
     "text": [
      "[0, 0, 0, 0, 0, 0]\n",
      "Enter a character:>>>>>>>>>>+\n",
      "[0, 0, 0, 0, 0, 0] 1\n",
      "[0, 0, 0, 0, 0, 0] 2\n",
      "[0, 0, 0, 0, 0, 0] 3\n",
      "[0, 0, 0, 0, 0, 0] 4\n",
      "[0, 0, 0, 0, 0, 0] 5\n",
      "[0, 0, 0, 0, 0, 0] 6\n",
      "[0, 0, 0, 0, 0, 0] 1\n",
      "[0, 0, 0, 0, 0, 0] 2\n",
      "[0, 0, 0, 0, 0, 0] 3\n",
      "[0, 0, 0, 0, 0, 0] 4\n",
      "[0, 0, 0, 0, 1, 0] 4\n"
     ]
    }
   ],
   "source": [
    "symbols = '+-><'\n",
    "\n",
    "def program_valid(program):\n",
    "    #print(operations.keys())\n",
    "    for char in program:\n",
    "        if char not in symbols:\n",
    "            return False\n",
    "    return True\n",
    "\n",
    "def plus(value):\n",
    "    return value + 1\n",
    "\n",
    "def minus(value):\n",
    "    return value - 1\n",
    "\n",
    "def greater(dpointer):\n",
    "    return dpointer + 1\n",
    "\n",
    "def lesser(dpointer):\n",
    "    return dpointer - 1\n",
    "\n",
    "operations = {\n",
    "    'data': {\n",
    "        '+': plus,\n",
    "        '-': minus\n",
    "    },\n",
    "    'pointer': {\n",
    "        '>': greater,\n",
    "        '<': lesser\n",
    "    }\n",
    "}\n",
    "\n",
    "data = [0] * 6\n",
    "dpointer = 0\n",
    "print(data)\n",
    "\n",
    "program = input('Enter a character:')\n",
    "while program != '' and not program_valid(program):\n",
    "    program = input('The Program is INVALID\\nPlease input another:')\n",
    "if program != '' and program_valid(program):\n",
    "    for i in range(len(program)):\n",
    "        if program[i] in operations['data']:\n",
    "            data[dpointer] = operations['data'][program[i]](data[dpointer])\n",
    "        elif program[i] in operations['pointer']:\n",
    "            dpointer = operations['pointer'][program[i]](dpointer)\n",
    "            if (dpointer) > len(data):\n",
    "                dpointer = dpointer - len(data)\n",
    "        print(data, dpointer)"
   ]
  },
  {
   "cell_type": "code",
   "execution_count": null,
   "metadata": {},
   "outputs": [],
   "source": []
  },
  {
   "cell_type": "code",
   "execution_count": null,
   "metadata": {},
   "outputs": [],
   "source": []
  }
 ],
 "metadata": {
  "kernelspec": {
   "display_name": "Python 3",
   "language": "python",
   "name": "python3"
  },
  "language_info": {
   "codemirror_mode": {
    "name": "ipython",
    "version": 3
   },
   "file_extension": ".py",
   "mimetype": "text/x-python",
   "name": "python",
   "nbconvert_exporter": "python",
   "pygments_lexer": "ipython3",
   "version": "3.7.3"
  }
 },
 "nbformat": 4,
 "nbformat_minor": 2
}
